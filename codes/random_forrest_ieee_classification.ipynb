{
 "cells": [
  {
   "cell_type": "code",
   "execution_count": 6,
   "metadata": {},
   "outputs": [],
   "source": [
    "######### libraries ################\n",
    "import pandas as pd\n",
    "import numpy as np\n",
    "from scipy import stats\n",
    "from sklearn.model_selection import train_test_split\n",
    "from sklearn.naive_bayes import MultinomialNB\n",
    "from sklearn.svm import LinearSVC\n",
    "from sklearn.metrics import accuracy_score\n",
    "from sklearn import preprocessing\n",
    "from sklearn.ensemble import RandomForestClassifier\n",
    "from sklearn.metrics import mean_squared_error, r2_score\n",
    "import os\n",
    "import matplotlib as mpl\n",
    "import matplotlib.pyplot as plt"
   ]
  },
  {
   "cell_type": "code",
   "execution_count": 7,
   "metadata": {},
   "outputs": [],
   "source": [
    "############ functions ################\n",
    "def scale_plot_size(factor=3.0):\n",
    "    default_figsize = mpl.rcParamsDefault['figure.figsize']\n",
    "    mpl.rcParams['figure.figsize'] = [val*factor for val in default_figsize]\n",
    "scale_plot_size(1.5)\n",
    "\n",
    "def rms(df):\n",
    "    return np.sqrt(df.dot(df)/df.size)\n"
   ]
  },
  {
   "cell_type": "code",
   "execution_count": 8,
   "metadata": {},
   "outputs": [],
   "source": [
    "######### reading file & preprocessing ##########\n",
    "header = [\"Hr\", \"Min\",\"Sec\",\"uSec\", \"X\",\"Y\"]\n",
    "\n",
    "training_set_path = os.path.expanduser('~/Vibrational_analysis/data/IEEE_dataset/Learning_set/Bearing3_1')\n",
    "\n",
    "dirList = os.listdir(os.path.expanduser(training_set_path))\n",
    "dirList.sort()\n",
    "n = 0\n",
    "\n",
    "for sets in dirList: \n",
    "    if sets == 'temp_00001.csv':\n",
    "        break\n",
    "    df = pd.read_csv(training_set_path+\"/\"+sets, header=None)\n",
    "    df.columns = header\n",
    "    data = np.array(df,np.float64)\n",
    "    columnx = data[:,4]\n",
    "    columny = data[:,5]\n",
    "\n",
    "    if n==0 :\n",
    "        x = columnx\n",
    "        y = columny\n",
    "\n",
    "        kurtx = stats.kurtosis(columnx)\n",
    "        kurty = stats.kurtosis(columny)\n",
    "\n",
    "        rmsx = rms(columnx)\n",
    "        rmsy = rms(columny)\n",
    "        \n",
    "        n = 1\n",
    "    else:\n",
    "        x= np.append(x,columnx)\n",
    "        y= np.append(y,columny)\n",
    "\n",
    "        kurtx = np.append(kurtx,stats.kurtosis(columnx))\n",
    "        kurty = np.append(kurty,stats.kurtosis(columny))\n",
    "\n",
    "        rmsx = np.append(rmsx,rms(columnx))\n",
    "        rmsy = np.append(rmsy,rms(columny))\n"
   ]
  },
  {
   "cell_type": "code",
   "execution_count": 9,
   "metadata": {},
   "outputs": [],
   "source": [
    "########### defining input variables ###############\n",
    "X1 = np.vstack ((kurtx,kurty,rmsx,rmsy))\n",
    "threshold = int(kurtx.shape[0]*0.25)\n",
    "output = np.arange (kurtx.shape[0]-1,-1,-1,dtype=np.float64)\n",
    "output = np.reshape(output,(kurtx.shape[0],1))\n",
    "Y1 = np.where( output>threshold , 0 , 1 )\n",
    "Xnm1 = preprocessing.normalize(X1)\n",
    "Xnm1 = Xnm1.transpose()\n",
    "# X_train, X_test, Y_train, Y_test = train_test_split(Xnm, Y, test_size=0.2, random_state=69)\n",
    "# X_train, X_test, Y_train, Y_test = train_test_split(Xnm, Y, test_size=0.5)"
   ]
  },
  {
   "cell_type": "code",
   "execution_count": 20,
   "metadata": {},
   "outputs": [
    {
     "name": "stderr",
     "output_type": "stream",
     "text": [
      "/usr/local/lib/python3.5/dist-packages/ipykernel_launcher.py:2: DataConversionWarning: A column-vector y was passed when a 1d array was expected. Please change the shape of y to (n_samples,), for example using ravel().\n",
      "  \n",
      "/usr/local/lib/python3.5/dist-packages/sklearn/utils/validation.py:578: DataConversionWarning: A column-vector y was passed when a 1d array was expected. Please change the shape of y to (n_samples, ), for example using ravel().\n",
      "  y = column_or_1d(y, warn=True)\n"
     ]
    },
    {
     "data": {
      "text/plain": [
       "MultinomialNB(alpha=1.0, class_prior=None, fit_prior=True)"
      ]
     },
     "execution_count": 20,
     "metadata": {},
     "output_type": "execute_result"
    }
   ],
   "source": [
    "model1 = RandomForestClassifier(n_estimators=100,max_depth=2,min_samples_split=2,min_samples_leaf=2,random_state=69)\n",
    "model1.fit(Xnm1,Y1)\n",
    "\n",
    "model2 = MultinomialNB()\n",
    "model2.fit(abs(Xnm1),Y1)\n",
    "\n",
    "model3 = LinearSVC(dual=False)\n",
    "model2.fit(abs(Xnm1),Y1)"
   ]
  },
  {
   "cell_type": "code",
   "execution_count": 25,
   "metadata": {},
   "outputs": [],
   "source": [
    "header = [\"Hr\", \"Min\",\"Sec\",\"uSec\", \"X\",\"Y\"]\n",
    "\n",
    "training_set_path = os.path.expanduser('~/Vibrational_analysis/data/IEEE_dataset/Learning_set/Bearing2_1')\n",
    "\n",
    "dirList = os.listdir(os.path.expanduser(training_set_path))\n",
    "dirList.sort()\n",
    "n = 0\n",
    "\n",
    "for sets in dirList: \n",
    "    if sets == 'temp_00001.csv':\n",
    "        break\n",
    "    df = pd.read_csv(training_set_path+\"/\"+sets, header=None)\n",
    "    df.columns = header\n",
    "    data = np.array(df,np.float64)\n",
    "    columnx = data[:,4]\n",
    "    columny = data[:,5]\n",
    "\n",
    "    if n==0 :\n",
    "        x = columnx\n",
    "        y = columny\n",
    "\n",
    "        kurtx = stats.kurtosis(columnx)\n",
    "        kurty = stats.kurtosis(columny)\n",
    "\n",
    "        rmsx = rms(columnx)\n",
    "        rmsy = rms(columny)\n",
    "        \n",
    "        n = 1\n",
    "    else:\n",
    "        x= np.append(x,columnx)\n",
    "        y= np.append(y,columny)\n",
    "\n",
    "        kurtx = np.append(kurtx,stats.kurtosis(columnx))\n",
    "        kurty = np.append(kurty,stats.kurtosis(columny))\n",
    "\n",
    "        rmsx = np.append(rmsx,rms(columnx))\n",
    "        rmsy = np.append(rmsy,rms(columny))\n"
   ]
  },
  {
   "cell_type": "code",
   "execution_count": 26,
   "metadata": {},
   "outputs": [],
   "source": [
    "########### defining input variables ###############\n",
    "X2 = np.vstack ((kurtx,kurty,rmsx,rmsy))\n",
    "threshold = int(kurtx.shape[0]*0.25)\n",
    "output = np.arange (kurtx.shape[0]-1,-1,-1,dtype=np.float64)\n",
    "output = np.reshape(output,(kurtx.shape[0],1))\n",
    "Y2 = np.where( output>threshold , 0 , 1 )\n",
    "Xnm2 = preprocessing.normalize(X2)\n",
    "Xnm2 = Xnm2.transpose()"
   ]
  },
  {
   "cell_type": "code",
   "execution_count": 27,
   "metadata": {},
   "outputs": [
    {
     "name": "stdout",
     "output_type": "stream",
     "text": [
      "0.482985729967\n",
      "0.74972557629\n"
     ]
    }
   ],
   "source": [
    "pred1 = model1.predict(Xnm2)\n",
    "score1 = accuracy_score(Y2,pred1)\n",
    "\n",
    "pred2 = model2.predict(Xnm2)\n",
    "score2 = accuracy_score(Y2,pred2)\n",
    "\n",
    "# pred3 = model3.predict(Xnm2)\n",
    "# score3 = accuracy_score(Y2,pred3)\n",
    "\n",
    "print(score1)\n",
    "print(score2)\n",
    "# print(score3)"
   ]
  },
  {
   "cell_type": "code",
   "execution_count": null,
   "metadata": {},
   "outputs": [],
   "source": []
  }
 ],
 "metadata": {
  "kernelspec": {
   "display_name": "Python 3",
   "language": "python",
   "name": "python3"
  },
  "language_info": {
   "codemirror_mode": {
    "name": "ipython",
    "version": 3
   },
   "file_extension": ".py",
   "mimetype": "text/x-python",
   "name": "python",
   "nbconvert_exporter": "python",
   "pygments_lexer": "ipython3",
   "version": "3.5.2"
  }
 },
 "nbformat": 4,
 "nbformat_minor": 2
}
