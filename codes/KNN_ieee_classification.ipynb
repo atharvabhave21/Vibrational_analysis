{
 "cells": [
  {
   "cell_type": "code",
   "execution_count": 1,
   "metadata": {},
   "outputs": [],
   "source": [
    "######### libraries ################\n",
    "import pandas as pd\n",
    "import numpy as np\n",
    "from scipy import stats\n",
    "from sklearn.model_selection import train_test_split\n",
    "from sklearn.metrics import accuracy_score\n",
    "from sklearn import preprocessing\n",
    "from sklearn.metrics import mean_squared_error, r2_score\n",
    "from sklearn.neighbors import KNeighborsClassifier\n",
    "import os\n",
    "import matplotlib as mpl\n",
    "import matplotlib.pyplot as plt\n"
   ]
  },
  {
   "cell_type": "code",
   "execution_count": 2,
   "metadata": {},
   "outputs": [],
   "source": [
    "############ functions ################\n",
    "def scale_plot_size(factor=3.0):\n",
    "    default_figsize = mpl.rcParamsDefault['figure.figsize']\n",
    "    mpl.rcParams['figure.figsize'] = [val*factor for val in default_figsize]\n",
    "scale_plot_size(1.5)\n",
    "\n",
    "def rms(df):\n",
    "    return np.sqrt(df.dot(df)/df.size)\n"
   ]
  },
  {
   "cell_type": "code",
   "execution_count": 28,
   "metadata": {},
   "outputs": [],
   "source": [
    "######### reading file & preprocessing ##########\n",
    "header = [\"Hr\", \"Min\",\"Sec\",\"uSec\", \"X\",\"Y\"]\n",
    "\n",
    "training_set_path = os.path.expanduser('~/Vibrational_analysis/data/IEEE_dataset/Learning_set/Bearing3_1')\n",
    "\n",
    "dirList = os.listdir(os.path.expanduser(training_set_path))\n",
    "dirList.sort()\n",
    "n = 0\n",
    "\n",
    "for sets in dirList: \n",
    "    if sets == 'temp_00001.csv':\n",
    "        break\n",
    "    df = pd.read_csv(training_set_path+\"/\"+sets, header=None)\n",
    "    df.columns = header\n",
    "    data = np.array(df,np.float64)\n",
    "    columnx = data[:,4]\n",
    "    columny = data[:,5]\n",
    "\n",
    "    if n==0 :\n",
    "        x = columnx\n",
    "        y = columny\n",
    "\n",
    "        kurtx = stats.kurtosis(columnx)\n",
    "        kurty = stats.kurtosis(columny)\n",
    "\n",
    "        rmsx = rms(columnx)\n",
    "        rmsy = rms(columny)\n",
    "        \n",
    "        n = 1\n",
    "    else:\n",
    "        x= np.append(x,columnx)\n",
    "        y= np.append(y,columny)\n",
    "\n",
    "        kurtx = np.append(kurtx,stats.kurtosis(columnx))\n",
    "        kurty = np.append(kurty,stats.kurtosis(columny))\n",
    "\n",
    "        rmsx = np.append(rmsx,rms(columnx))\n",
    "        rmsy = np.append(rmsy,rms(columny))\n"
   ]
  },
  {
   "cell_type": "code",
   "execution_count": 29,
   "metadata": {},
   "outputs": [],
   "source": [
    "########### defining input variables ###############\n",
    "X1 = np.vstack ((kurtx,kurty,rmsx,rmsy))\n",
    "threshold = int(kurtx.shape[0]*0.25)\n",
    "output = np.arange (kurtx.shape[0]-1,-1,-1,dtype=np.float64)\n",
    "output = np.reshape(output,(kurtx.shape[0],1))\n",
    "Y1 = np.where( output>threshold , 0 , 1 )\n",
    "Xnm1 = preprocessing.normalize(X1)\n",
    "Xnm1 = Xnm1.transpose()\n",
    "# X_train, X_test, Y_train, Y_test = train_test_split(Xnm, Y, test_size=0.3, random_state=69)\n",
    "# X_train, X_test, Y_train, Y_test = train_test_split(Xnm, Y, test_size=0.5)"
   ]
  },
  {
   "cell_type": "code",
   "execution_count": 30,
   "metadata": {},
   "outputs": [],
   "source": [
    "######### reading file & preprocessing ##########\n",
    "header = [\"Hr\", \"Min\",\"Sec\",\"uSec\", \"X\",\"Y\"]\n",
    "\n",
    "training_set_path = os.path.expanduser('~/Vibrational_analysis/data/IEEE_dataset/Learning_set/Bearing3_2')\n",
    "\n",
    "dirList = os.listdir(os.path.expanduser(training_set_path))\n",
    "dirList.sort()\n",
    "n = 0\n",
    "\n",
    "for sets in dirList: \n",
    "    if sets == 'temp_00001.csv':\n",
    "        break\n",
    "    df = pd.read_csv(training_set_path+\"/\"+sets, header=None)\n",
    "    df.columns = header\n",
    "    data = np.array(df,np.float64)\n",
    "    columnx = data[:,4]\n",
    "    columny = data[:,5]\n",
    "\n",
    "    if n==0 :\n",
    "        x = columnx\n",
    "        y = columny\n",
    "\n",
    "        kurtx = stats.kurtosis(columnx)\n",
    "        kurty = stats.kurtosis(columny)\n",
    "\n",
    "        rmsx = rms(columnx)\n",
    "        rmsy = rms(columny)\n",
    "        \n",
    "        n = 1\n",
    "    else:\n",
    "        x= np.append(x,columnx)\n",
    "        y= np.append(y,columny)\n",
    "\n",
    "        kurtx = np.append(kurtx,stats.kurtosis(columnx))\n",
    "        kurty = np.append(kurty,stats.kurtosis(columny))\n",
    "\n",
    "        rmsx = np.append(rmsx,rms(columnx))\n",
    "        rmsy = np.append(rmsy,rms(columny))\n"
   ]
  },
  {
   "cell_type": "code",
   "execution_count": 31,
   "metadata": {},
   "outputs": [],
   "source": [
    "########### defining input variables ###############\n",
    "X2 = np.vstack ((kurtx,kurty,rmsx,rmsy))\n",
    "threshold = int(kurtx.shape[0]*0.25)\n",
    "output = np.arange (kurtx.shape[0]-1,-1,-1,dtype=np.float64)\n",
    "output = np.reshape(output,(kurtx.shape[0],1))\n",
    "Y2 = np.where( output>threshold , 0 , 1 )\n",
    "Xnm2 = preprocessing.normalize(X2)\n",
    "Xnm2 = Xnm2.transpose()"
   ]
  },
  {
   "cell_type": "code",
   "execution_count": 36,
   "metadata": {},
   "outputs": [
    {
     "name": "stderr",
     "output_type": "stream",
     "text": [
      "/usr/local/lib/python3.5/dist-packages/ipykernel_launcher.py:5: DataConversionWarning: A column-vector y was passed when a 1d array was expected. Please change the shape of y to (n_samples, ), for example using ravel().\n",
      "  \"\"\"\n"
     ]
    },
    {
     "name": "stdout",
     "output_type": "stream",
     "text": [
      "Accuracy is  23.4575442883 % for K-Value: 1\n",
      "Accuracy is  23.5797189982 % for K-Value: 2\n",
      "Accuracy is  23.4575442883 % for K-Value: 3\n",
      "Accuracy is  23.4575442883 % for K-Value: 4\n",
      "Accuracy is  23.1521075137 % for K-Value: 5\n",
      "Accuracy is  23.5797189982 % for K-Value: 6\n",
      "Accuracy is  23.0910201588 % for K-Value: 7\n",
      "Accuracy is  23.2131948687 % for K-Value: 8\n",
      "Accuracy is  23.0910201588 % for K-Value: 9\n",
      "Accuracy is  23.2742822236 % for K-Value: 10\n",
      "Accuracy is  22.9077580941 % for K-Value: 11\n",
      "Accuracy is  22.968845449 % for K-Value: 12\n",
      "Accuracy is  22.8466707392 % for K-Value: 13\n",
      "Accuracy is  22.4801466097 % for K-Value: 14\n",
      "Accuracy is  22.5412339646 % for K-Value: 15\n",
      "Accuracy is  22.4801466097 % for K-Value: 16\n",
      "Accuracy is  22.4801466097 % for K-Value: 17\n",
      "Accuracy is  22.4190592547 % for K-Value: 18\n",
      "Accuracy is  22.5412339646 % for K-Value: 19\n",
      "Accuracy is  22.4190592547 % for K-Value: 20\n",
      "Accuracy is  22.3579718998 % for K-Value: 21\n",
      "Accuracy is  22.3579718998 % for K-Value: 22\n",
      "Accuracy is  22.3579718998 % for K-Value: 23\n",
      "Accuracy is  21.9303604154 % for K-Value: 24\n",
      "Accuracy is  21.9303604154 % for K-Value: 25\n"
     ]
    }
   ],
   "source": [
    "############# train ##############\n",
    "for K in range(25):\n",
    "    K_value = K+1\n",
    "    neigh = KNeighborsClassifier(n_neighbors = K_value, weights='uniform', algorithm='auto')\n",
    "    neigh.fit(Xnm1, Y1) \n",
    "    pred = neigh.predict(Xnm2)\n",
    "    print (\"Accuracy is \", accuracy_score(Y2,pred)*100,\"% for K-Value:\",K_value)"
   ]
  },
  {
   "cell_type": "code",
   "execution_count": null,
   "metadata": {},
   "outputs": [],
   "source": []
  }
 ],
 "metadata": {
  "kernelspec": {
   "display_name": "Python 3",
   "language": "python",
   "name": "python3"
  },
  "language_info": {
   "codemirror_mode": {
    "name": "ipython",
    "version": 3
   },
   "file_extension": ".py",
   "mimetype": "text/x-python",
   "name": "python",
   "nbconvert_exporter": "python",
   "pygments_lexer": "ipython3",
   "version": "3.5.2"
  }
 },
 "nbformat": 4,
 "nbformat_minor": 2
}
