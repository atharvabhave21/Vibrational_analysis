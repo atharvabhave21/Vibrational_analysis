{
 "cells": [
  {
   "cell_type": "code",
   "execution_count": 1,
   "metadata": {},
   "outputs": [],
   "source": [
    "######### libraries ################\n",
    "import pandas as pd\n",
    "import numpy as np\n",
    "from scipy import stats\n",
    "\n",
    "from sklearn.model_selection import train_test_split\n",
    "from sklearn.metrics import accuracy_score\n",
    "from sklearn import preprocessing\n",
    "from sklearn.ensemble import RandomForestClassifier\n",
    "from sklearn.pipeline import make_pipeline\n",
    "from sklearn.model_selection import GridSearchCV\n",
    "from sklearn.pipeline import make_pipeline\n",
    "from sklearn.model_selection import GridSearchCV\n",
    "from sklearn.metrics import mean_squared_error, r2_score\n",
    "from sklearn.externals import joblib\n",
    "import os\n",
    "import matplotlib as mpl\n",
    "import matplotlib.pyplot as plt"
   ]
  },
  {
   "cell_type": "code",
   "execution_count": 2,
   "metadata": {},
   "outputs": [],
   "source": [
    "############ functions ################\n",
    "def scale_plot_size(factor=3.0):\n",
    "    default_figsize = mpl.rcParamsDefault['figure.figsize']\n",
    "    mpl.rcParams['figure.figsize'] = [val*factor for val in default_figsize]\n",
    "scale_plot_size(1.5)\n",
    "\n",
    "def rms(df):\n",
    "    return np.sqrt(df.dot(df)/df.size)\n"
   ]
  },
  {
   "cell_type": "code",
   "execution_count": 3,
   "metadata": {},
   "outputs": [],
   "source": [
    "######### reading file & preprocessing ##########\n",
    "header = [\"Hr\", \"Min\",\"Sec\",\"uSec\", \"X\",\"Y\"]\n",
    "\n",
    "training_set_path = os.path.expanduser('~/Vibrational_analysis/data/IEEE_dataset/Learning_set/Bearing1_1')\n",
    "\n",
    "dirList = os.listdir(os.path.expanduser(training_set_path))\n",
    "dirList.sort()\n",
    "n = 0\n",
    "\n",
    "for sets in dirList: \n",
    "    if sets == 'temp_00001.csv':\n",
    "        break\n",
    "    df = pd.read_csv(training_set_path+\"/\"+sets, header=None)\n",
    "    df.columns = header\n",
    "    data = np.array(df,np.float64)\n",
    "    columnx = data[:,4]\n",
    "    columny = data[:,5]\n",
    "\n",
    "    if n==0 :\n",
    "        x = columnx\n",
    "        y = columny\n",
    "\n",
    "        kurtx = stats.kurtosis(columnx)\n",
    "        kurty = stats.kurtosis(columny)\n",
    "\n",
    "        rmsx = rms(columnx)\n",
    "        rmsy = rms(columny)\n",
    "        \n",
    "        n = 1\n",
    "    else:\n",
    "        x= np.append(x,columnx)\n",
    "        y= np.append(y,columny)\n",
    "\n",
    "        kurtx = np.append(kurtx,stats.kurtosis(columnx))\n",
    "        kurty = np.append(kurty,stats.kurtosis(columny))\n",
    "\n",
    "        rmsx = np.append(rmsx,rms(columnx))\n",
    "        rmsy = np.append(rmsy,rms(columny))\n"
   ]
  },
  {
   "cell_type": "code",
   "execution_count": 4,
   "metadata": {},
   "outputs": [
    {
     "data": {
      "text/plain": [
       "[<matplotlib.lines.Line2D at 0x7fc8ae691668>]"
      ]
     },
     "execution_count": 4,
     "metadata": {},
     "output_type": "execute_result"
    },
    {
     "data": {
      "image/png": "[encoded data removed]",
      "text/plain": [
       "<matplotlib.figure.Figure at 0x7fc8ae9d6f98>"
      ]
     },
     "metadata": {},
     "output_type": "display_data"
    }
   ],
   "source": [
    "# plt.plot(kurtx)\n",
    "plt.plot(rmsx)"
   ]
  },
  {
   "cell_type": "code",
   "execution_count": 5,
   "metadata": {},
   "outputs": [],
   "source": [
    "########### defining input variables ###############\n",
    "X1 = np.vstack ((kurtx,kurty,rmsx,rmsy))\n",
    "threshold = int(kurtx.shape[0]*0.25)\n",
    "output = np.arange (kurtx.shape[0]-1,-1,-1,dtype=np.float64)\n",
    "output = np.reshape(output,(kurtx.shape[0],1))\n",
    "Y1 = np.where( output>threshold , 0 , 1 )\n",
    "Xnm1 = preprocessing.normalize(X1)\n",
    "Xnm1 = Xnm1.transpose()\n",
    "# X_train, X_test, Y_train, Y_test = train_test_split(Xnm, Y, test_size=0.2, random_state=69)\n",
    "# X_train, X_test, Y_train, Y_test = train_test_split(Xnm, Y, test_size=0.5)"
   ]
  },
  {
   "cell_type": "code",
   "execution_count": 6,
   "metadata": {},
   "outputs": [
    {
     "name": "stderr",
     "output_type": "stream",
     "text": [
      "/usr/local/lib/python3.5/dist-packages/ipykernel_launcher.py:2: DataConversionWarning: A column-vector y was passed when a 1d array was expected. Please change the shape of y to (n_samples,), for example using ravel().\n",
      "  \n"
     ]
    },
    {
     "data": {
      "text/plain": [
       "RandomForestClassifier(bootstrap=True, class_weight=None, criterion='gini',\n",
       "            max_depth=2, max_features='auto', max_leaf_nodes=None,\n",
       "            min_impurity_decrease=0.0, min_impurity_split=None,\n",
       "            min_samples_leaf=2, min_samples_split=2,\n",
       "            min_weight_fraction_leaf=0.0, n_estimators=100, n_jobs=1,\n",
       "            oob_score=False, random_state=69, verbose=0, warm_start=False)"
      ]
     },
     "execution_count": 6,
     "metadata": {},
     "output_type": "execute_result"
    }
   ],
   "source": [
    "clf = RandomForestClassifier(n_estimators=100,max_depth=2,min_samples_split=2,min_samples_leaf=2,random_state=69)\n",
    "clf.fit(Xnm1,Y1)\n",
    "# print(Y1.shape)\n",
    "# print(Xnm1.shape)"
   ]
  },
  {
   "cell_type": "code",
   "execution_count": 7,
   "metadata": {},
   "outputs": [],
   "source": [
    "header = [\"Hr\", \"Min\",\"Sec\",\"uSec\", \"X\",\"Y\"]\n",
    "\n",
    "training_set_path = os.path.expanduser('~/Vibrational_analysis/data/IEEE_dataset/Learning_set/Bearing3_1')\n",
    "\n",
    "dirList = os.listdir(os.path.expanduser(training_set_path))\n",
    "dirList.sort()\n",
    "n = 0\n",
    "\n",
    "for sets in dirList: \n",
    "    if sets == 'temp_00001.csv':\n",
    "        break\n",
    "    df = pd.read_csv(training_set_path+\"/\"+sets, header=None)\n",
    "    df.columns = header\n",
    "    data = np.array(df,np.float64)\n",
    "    columnx = data[:,4]\n",
    "    columny = data[:,5]\n",
    "\n",
    "    if n==0 :\n",
    "        x = columnx\n",
    "        y = columny\n",
    "\n",
    "        kurtx = stats.kurtosis(columnx)\n",
    "        kurty = stats.kurtosis(columny)\n",
    "\n",
    "        rmsx = rms(columnx)\n",
    "        rmsy = rms(columny)\n",
    "        \n",
    "        n = 1\n",
    "    else:\n",
    "        x= np.append(x,columnx)\n",
    "        y= np.append(y,columny)\n",
    "\n",
    "        kurtx = np.append(kurtx,stats.kurtosis(columnx))\n",
    "        kurty = np.append(kurty,stats.kurtosis(columny))\n",
    "\n",
    "        rmsx = np.append(rmsx,rms(columnx))\n",
    "        rmsy = np.append(rmsy,rms(columny))\n"
   ]
  },
  {
   "cell_type": "code",
   "execution_count": 8,
   "metadata": {},
   "outputs": [
    {
     "data": {
      "text/plain": [
       "[<matplotlib.lines.Line2D at 0x7fc8ae6d3a90>]"
      ]
     },
     "execution_count": 8,
     "metadata": {},
     "output_type": "execute_result"
    },
    {
     "data": {
      "image/png": "[encoded data removed]",
      "text/plain": [
       "<matplotlib.figure.Figure at 0x7fc8ae6c65f8>"
      ]
     },
     "metadata": {},
     "output_type": "display_data"
    }
   ],
   "source": [
    "plt.plot(rmsx)"
   ]
  },
  {
   "cell_type": "code",
   "execution_count": 9,
   "metadata": {},
   "outputs": [],
   "source": [
    "########### defining input variables ###############\n",
    "X2 = np.vstack ((kurtx,kurty,rmsx,rmsy))\n",
    "threshold = int(kurtx.shape[0]*0.25)\n",
    "output = np.arange (kurtx.shape[0]-1,-1,-1,dtype=np.float64)\n",
    "output = np.reshape(output,(kurtx.shape[0],1))\n",
    "Y2 = np.where( output>threshold , 0 , 1 )\n",
    "Xnm2 = preprocessing.normalize(X2)\n",
    "Xnm2 = Xnm2.transpose()"
   ]
  },
  {
   "cell_type": "code",
   "execution_count": 10,
   "metadata": {},
   "outputs": [
    {
     "data": {
      "text/plain": [
       "0.25048543689320391"
      ]
     },
     "execution_count": 10,
     "metadata": {},
     "output_type": "execute_result"
    }
   ],
   "source": [
    "pred = clf.predict(Xnm2)\n",
    "accuracy_score(Y2,pred)\n",
    "# print(pred.shape)\n",
    "# print(Xnm2.shape) "
   ]
  },
  {
   "cell_type": "code",
   "execution_count": 11,
   "metadata": {},
   "outputs": [
    {
     "data": {
      "text/plain": [
       "[<matplotlib.lines.Line2D at 0x7fc8ae631160>]"
      ]
     },
     "execution_count": 11,
     "metadata": {},
     "output_type": "execute_result"
    },
    {
     "data": {
      "image/png": "[encoded data removed]",
      "text/plain": [
       "<matplotlib.figure.Figure at 0x7fc8ae6d4d68>"
      ]
     },
     "metadata": {},
     "output_type": "display_data"
    }
   ],
   "source": [
    "plt.plot(pred,'.')"
   ]
  },
  {
   "cell_type": "code",
   "execution_count": null,
   "metadata": {},
   "outputs": [],
   "source": []
  }
 ],
 "metadata": {
  "kernelspec": {
   "display_name": "Python 3",
   "language": "python",
   "name": "python3"
  },
  "language_info": {
   "codemirror_mode": {
    "name": "ipython",
    "version": 3
   },
   "file_extension": ".py",
   "mimetype": "text/x-python",
   "name": "python",
   "nbconvert_exporter": "python",
   "pygments_lexer": "ipython3",
   "version": "3.5.2"
  }
 },
 "nbformat": 4,
 "nbformat_minor": 2
}
