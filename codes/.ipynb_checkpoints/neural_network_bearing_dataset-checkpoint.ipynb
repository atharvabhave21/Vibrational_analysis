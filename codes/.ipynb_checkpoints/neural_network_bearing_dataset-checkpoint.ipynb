{
 "cells": [
  {
   "cell_type": "code",
   "execution_count": 7,
   "metadata": {},
   "outputs": [],
   "source": [
    "import pandas as pd\n",
    "import numpy as np\n",
    "import matplotlib as mpl\n",
    "import matplotlib.pyplot as plt\n",
    "import os\n",
    "from scipy import stats\n",
    "from sklearn import preprocessing, linear_model\n",
    "from keras.models import Sequential\n",
    "from keras.layers import Dense"
   ]
  },
  {
   "cell_type": "code",
   "execution_count": 2,
   "metadata": {},
   "outputs": [],
   "source": [
    "def scale_plot_size(factor=3.0):\n",
    "    default_figsize = mpl.rcParamsDefault['figure.figsize']\n",
    "    mpl.rcParams['figure.figsize'] = [val*factor for val in default_figsize]\n",
    "scale_plot_size(1.5)\n",
    "\n",
    "def normalizeDataFrame(df):\n",
    "    maxValue = df.max(axis = 0)\n",
    "    minValue = df.min(axis = 0)\n",
    "    diff = maxValue-minValue\n",
    "    mean = df.mean(axis = 0)\n",
    "    ndf = (df-mean)/diff\n",
    "    return ndf\n",
    "\n",
    "def rms(df):\n",
    "    return np.sqrt(df.dot(df)/df.size)"
   ]
  },
  {
   "cell_type": "code",
   "execution_count": 4,
   "metadata": {},
   "outputs": [
    {
     "name": "stdout",
     "output_type": "stream",
     "text": [
      "/Users/Suyash/Vibrational_analysis/data/IEEE_dataset/Learning_set/Bearing1_1\n"
     ]
    }
   ],
   "source": [
    "training_set_path = os.path.expanduser('~/Vibrational_analysis/data/IEEE_dataset/Learning_set/Bearing1_1')\n",
    "header = [\"Hr\", \"Min\",\"Sec\",\"uSec\", \"X\",\"Y\"]\n",
    "\n",
    "print (training_set_path)\n",
    "\n",
    "dirList = os.listdir(os.path.expanduser(training_set_path))\n",
    "dirList.sort()\n",
    "n = 0\n",
    "\n",
    "\n",
    "for sets in dirList: \n",
    "    if sets == 'temp_00001.csv':\n",
    "        break\n",
    "    df = pd.read_csv(training_set_path+\"/\"+sets, header=None)\n",
    "    df.columns = header\n",
    "    data = np.array(df,np.float64)\n",
    "    columnx = data[:,4]\n",
    "    columny = data[:,5]\n",
    "    \n",
    "    if n==0 :\n",
    "        x = columnx\n",
    "        y = columny\n",
    "\n",
    "        kurtx = stats.kurtosis(columnx)\n",
    "        kurty = stats.kurtosis(columny)\n",
    "\n",
    "        rmsx = rms(columnx)\n",
    "        rmsy = rms(columny)\n",
    "        \n",
    "        n = 1\n",
    "    else:\n",
    "        x= np.append(x,columnx)\n",
    "        y= np.append(y,columny)\n",
    "\n",
    "        kurtx = np.append(kurtx,stats.kurtosis(columnx))\n",
    "        kurty = np.append(kurty,stats.kurtosis(columny))\n",
    "\n",
    "        rmsx = np.append(rmsx,rms(columnx))\n",
    "        rmsy = np.append(rmsy,rms(columny))"
   ]
  },
  {
   "cell_type": "code",
   "execution_count": 5,
   "metadata": {},
   "outputs": [],
   "source": [
    "xdf = pd.DataFrame(x)\n",
    "ydf = pd.DataFrame(y)\n",
    "xdfnm = normalizeDataFrame (xdf)\n",
    "ydfnm = normalizeDataFrame (ydf)\n",
    "xdfkurt = pd.DataFrame(kurtx)\n",
    "ydfkurt = pd.DataFrame(kurty)\n",
    "xdfrms = pd.DataFrame(rmsx)\n",
    "ydfrms = pd.DataFrame(rmsy)\n",
    "\n",
    "xdf = xdfnm.rolling(10).mean()\n",
    "ydf = ydfnm.rolling(10).mean()\n",
    "xdfkurt = xdfkurt.rolling(10).mean()\n",
    "ydfkurt = ydfkurt.rolling(10).mean()\n",
    "xdfrms = xdfrms.rolling(10).mean()\n",
    "ydfrms = ydfrms.rolling(10).mean()"
   ]
  },
  {
   "cell_type": "code",
   "execution_count": 10,
   "metadata": {},
   "outputs": [],
   "source": [
    "#create model\n",
    "def baseline_model():\n",
    "    pred = Sequential()\n",
    "    pred.add(Dense(2,input_dim = 6,kernel_initializer='normal',activation = 'relu'))\n",
    "    pred.add(Dense(1))\n",
    "\n",
    "#compile model\n",
    "    model.compile(loss = 'mean_squared_error',optimizer = 'adam')\n",
    "    return model\n",
    "\n",
    "model.fit()\n"
   ]
  }
 ],
 "metadata": {
  "kernelspec": {
   "display_name": "Python 3",
   "language": "python",
   "name": "python3"
  },
  "language_info": {
   "codemirror_mode": {
    "name": "ipython",
    "version": 3
   },
   "file_extension": ".py",
   "mimetype": "text/x-python",
   "name": "python",
   "nbconvert_exporter": "python",
   "pygments_lexer": "ipython3",
   "version": "3.6.4"
  }
 },
 "nbformat": 4,
 "nbformat_minor": 2
}
