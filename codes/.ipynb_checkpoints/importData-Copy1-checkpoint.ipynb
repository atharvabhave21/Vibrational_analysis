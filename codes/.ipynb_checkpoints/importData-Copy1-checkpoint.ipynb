{
 "cells": [
  {
   "cell_type": "code",
   "execution_count": 7,
   "metadata": {},
   "outputs": [],
   "source": [
    "import pandas as pd\n",
    "import os\n",
    "learning_set_path = '/home/atharv/MLlysis/data/IEEE/learning_set/'\n",
    "test_set_path = '~/ML/Vibrational_Analysis/data/IEEE'"
   ]
  },
  {
   "cell_type": "code",
   "execution_count": 6,
   "metadata": {},
   "outputs": [],
   "source": [
    "learning_set_path = '/home/atharv/ML/Vibrational_Analysis/data/IEEE/learning_set/'\n",
    "test_set_path = '~/ML/Vibrational_Analysis/data/IEEE/test_set/'\n",
    "# runs = []\n",
    "# for run in os.listdir(learning_set_path):\n",
    "#     print (\"In run: \", run, \"\\tno_of_readings = \", len(os.listdir(learning_set_path+run)))\n",
    "#     df = pd.read_csv(learning_set_path+\"/\"+run+\"/appended.csv\")"
   ]
  },
  {
   "cell_type": "code",
   "execution_count": 10,
   "metadata": {},
   "outputs": [
    {
     "ename": "FileNotFoundError",
     "evalue": "[Errno 2] No such file or directory: '/home/atharv/MLlysis/data/IEEE/learning_set/'",
     "output_type": "error",
     "traceback": [
      "\u001b[0;31m---------------------------------------------------------------------------\u001b[0m",
      "\u001b[0;31mFileNotFoundError\u001b[0m                         Traceback (most recent call last)",
      "\u001b[0;32m<ipython-input-10-c266afe66a99>\u001b[0m in \u001b[0;36m<module>\u001b[0;34m()\u001b[0m\n\u001b[1;32m      2\u001b[0m \u001b[0;31m# test_set_path = '~/ML/Vibrational_Analysis/data/IEEE/test_set/'\u001b[0m\u001b[0;34m\u001b[0m\u001b[0;34m\u001b[0m\u001b[0m\n\u001b[1;32m      3\u001b[0m \u001b[0mruns\u001b[0m \u001b[0;34m=\u001b[0m \u001b[0;34m[\u001b[0m\u001b[0;34m]\u001b[0m\u001b[0;34m\u001b[0m\u001b[0m\n\u001b[0;32m----> 4\u001b[0;31m \u001b[0mprint\u001b[0m \u001b[0;34m(\u001b[0m\u001b[0mos\u001b[0m\u001b[0;34m.\u001b[0m\u001b[0mlistdir\u001b[0m\u001b[0;34m(\u001b[0m\u001b[0mlearning_set_path\u001b[0m\u001b[0;34m)\u001b[0m\u001b[0;34m)\u001b[0m\u001b[0;34m\u001b[0m\u001b[0m\n\u001b[0m\u001b[1;32m      5\u001b[0m \u001b[0;32mfor\u001b[0m \u001b[0mrun\u001b[0m \u001b[0;32min\u001b[0m \u001b[0mos\u001b[0m\u001b[0;34m.\u001b[0m\u001b[0mlistdir\u001b[0m\u001b[0;34m(\u001b[0m\u001b[0mlearning_set_path\u001b[0m\u001b[0;34m)\u001b[0m\u001b[0;34m:\u001b[0m\u001b[0;34m\u001b[0m\u001b[0m\n\u001b[1;32m      6\u001b[0m     \u001b[0mprint\u001b[0m \u001b[0;34m(\u001b[0m\u001b[0mrun\u001b[0m\u001b[0;34m)\u001b[0m\u001b[0;34m\u001b[0m\u001b[0m\n",
      "\u001b[0;31mFileNotFoundError\u001b[0m: [Errno 2] No such file or directory: '/home/atharv/MLlysis/data/IEEE/learning_set/'"
     ]
    }
   ],
   "source": [
    "# learning_set_path = '/home/atharv/ML/Vibrational_Analysis/data/IEEE/learning_set/'\n",
    "# test_set_path = '~/ML/Vibrational_Analysis/data/IEEE/test_set/'\n",
    "runs = []\n",
    "print (os.listdir(learning_set_path))\n",
    "for run in os.listdir(learning_set_path):\n",
    "    print (run)\n",
    "#     print (\"In run: \", run, \"\\tno_of_readings = \", len(os.listdir(learning_set_path+run)))\n",
    "    readings = []\n",
    "    for reading in os.listdir(learning_set_path+run):\n",
    "        df = pd.read_csv(learning_set_path+run+\"/\"+reading)\n",
    "        readings.append(df)\n",
    "    readings = pd.concat(readings, axis=1)\n",
    "    readings.to_csv('~/ML/Vibrational_Analysis/data/IEEE/test_set/appended.csv')"
   ]
  },
  {
   "cell_type": "code",
   "execution_count": null,
   "metadata": {},
   "outputs": [],
   "source": [
    "learning_set_path = '/home/atharv/ML/Vibrational_Analysis/data/IEEE/learning_set/'\n",
    "test_set_path = '~/ML/Vibrational_Analysis/data/IEEE/test_set/'\n",
    "runs = []\n",
    "for run in os.listdir(learning_set_path):\n",
    "    print (\"In run: \", run, \"\\tno_of_readings = \", len(os.listdir(learning_set_path+run)))\n",
    "    readings = []\n",
    "    for reading in os.listdir(learning_set_path+run):\n",
    "        df = pd.read_csv(learning_set_path+run+\"/\"+reading)\n",
    "        readings.append(df)\n",
    "    readings = pd.concat(readings, axis=1)\n",
    "    readings.to_csv('~/ML/Vibrational_Analysis/data/IEEE/test_set/appended.csv')"
   ]
  },
  {
   "cell_type": "code",
   "execution_count": null,
   "metadata": {},
   "outputs": [],
   "source": []
  }
 ],
 "metadata": {
  "kernelspec": {
   "display_name": "Python 3",
   "language": "python",
   "name": "python3"
  },
  "language_info": {
   "codemirror_mode": {
    "name": "ipython",
    "version": 3
   },
   "file_extension": ".py",
   "mimetype": "text/x-python",
   "name": "python",
   "nbconvert_exporter": "python",
   "pygments_lexer": "ipython3",
   "version": "3.5.2"
  }
 },
 "nbformat": 4,
 "nbformat_minor": 2
}
