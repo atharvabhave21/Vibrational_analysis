{
 "cells": [
  {
   "cell_type": "code",
   "execution_count": 8,
   "metadata": {},
   "outputs": [],
   "source": [
    "import pandas as pd\n",
    "import os\n",
    "import matplotlib as mpl\n",
    "import matplotlib.pyplot as plt\n",
    "import numpy as np\n",
    "from scipy import stats\n",
    "from sklearn import preprocessing, linear_model\n",
    "def scale_plot_size(factor=3.0):\n",
    "    default_figsize = mpl.rcParamsDefault['figure.figsize']\n",
    "    mpl.rcParams['figure.figsize'] = [val*factor for val in default_figsize]\n",
    "scale_plot_size(1.5)"
   ]
  },
  {
   "cell_type": "code",
   "execution_count": 9,
   "metadata": {
    "scrolled": true
   },
   "outputs": [
    {
     "name": "stdout",
     "output_type": "stream",
     "text": [
      "/home/atharv/Vibrational_Analysis/data/CMAPSSData/training_set/train_FD002.txt\n",
      "/home/atharv/Vibrational_Analysis/data/CMAPSSData/training_set/train_FD004.txt\n",
      "/home/atharv/Vibrational_Analysis/data/CMAPSSData/training_set/train_FD003.txt\n",
      "/home/atharv/Vibrational_Analysis/data/CMAPSSData/training_set/train_FD001.txt\n"
     ]
    }
   ],
   "source": [
    "training_set_path = os.path.expanduser('~/Vibrational_Analysis/data/CMAPSSData/training_set')\n",
    "processed_training_set_path = os.path.expanduser('~/Vibrational_Analysis/data/CMAPSSData/training_set/processed')\n",
    "if not os.path.exists(processed_training_set_path):\n",
    "    os.mkdir(processed_training_set_path)\n",
    "test_set_path = '~/Vibrational_Analysis/data/CMAPSSData/test_set'\n",
    "\n",
    "header = [\"unit\", \"time\"]\n",
    "for op in range(1, 4):\n",
    "    header.append(\"opSetting\"+str(op))\n",
    "for op in range(1, 22):\n",
    "    header.append(\"sensor\"+str(op))\n",
    "for sets in os.listdir(os.path.expanduser(training_set_path)):\n",
    "    if not sets.startswith('train'):\n",
    "        continue\n",
    "    print (training_set_path+\"/\"+sets)\n",
    "    df = pd.read_csv(training_set_path+\"/\"+sets, sep = \" \", header=None)\n",
    "    df = df.dropna(axis=1, how='all')\n",
    "    df.columns = header\n",
    "    RULS = []\n",
    "    for unit in df['unit'].unique():\n",
    "        RULS.append(df['unit'].value_counts()[unit])\n",
    "    temp = []\n",
    "    for i in RULS:\n",
    "        for j in range(i):\n",
    "            temp.append(i)\n",
    "    df['RUL'] = temp\n",
    "    df['RUL'] = df['RUL'].subtract(df['time'])\n",
    "#     for cols in df.columns:\n",
    "#         print(cols, \" : \", len(df.loc[:][cols].unique()))\n",
    "    df.to_csv(processed_training_set_path+\"/\"+sets, index=False)"
   ]
  },
  {
   "cell_type": "code",
   "execution_count": 10,
   "metadata": {
    "scrolled": true
   },
   "outputs": [],
   "source": [
    "def normalizeDataFrame(df):\n",
    "    scaler = preprocessing.MinMaxScaler() \n",
    "    scaled_values = scaler.fit_transform(df) \n",
    "    df.loc[:,:] = scaled_values\n",
    "    return df\n",
    "\n",
    "for sets in os.listdir(os.path.expanduser(processed_training_set_path)):\n",
    "    if not sets.startswith('train'):\n",
    "        continue\n",
    "    df = pd.read_csv(processed_training_set_path+\"/\"+sets, low_memory=False)\n",
    "#     df = normalizeDataFrame(df)\n",
    "    df = df.dropna(axis=1, how='all')\n",
    "#     df\n",
    "# for cols in df.columns:\n",
    "#     print(cols, \" : \", len(df.loc[:][cols].unique()))\n",
    "#     if len(df.loc[:][cols].unique()) == 100:"
   ]
  },
  {
   "cell_type": "code",
   "execution_count": 11,
   "metadata": {},
   "outputs": [],
   "source": [
    "# data = df.loc[df['Unit'] == i]['sensor21']\n",
    "# plt.plot(data, stats.exponweib.pdf(data, *stats.exponweib.fit(data, 1, 1, scale=2, loc=0)))\n",
    "# _ = plt.hist(data, bins=np.linspace(0, 16, 33), normed=True, alpha=0.5);\n",
    "# plt.show()"
   ]
  },
  {
   "cell_type": "code",
   "execution_count": 12,
   "metadata": {},
   "outputs": [],
   "source": [
    "# # print (df)\n",
    "# for num, i in enumerate(df['unit'].unique()):\n",
    "# #     dfTemp = normalizeDataFrame(df.loc[df['Unit'] == i])\n",
    "# #     dfTemp = dfTemp.resample('S')\n",
    "# #     dfTemp = dfTemp.interpolate()\n",
    "#     plt.plot(dfTemp['time'], dfTemp['sensor21'])\n",
    "#     dfTemp = dfTemp.rolling(10).mean()\n",
    "#     plt.plot(dfTemp['time'], dfTemp['sensor21'])\n",
    "#     if num == 0:\n",
    "#         break\n",
    "# #     break\n",
    "#     # df.loc[df['Unit'] == '1']\n",
    "# plt.show()"
   ]
  },
  {
   "cell_type": "code",
   "execution_count": 28,
   "metadata": {
    "scrolled": false
   },
   "outputs": [
    {
     "name": "stdout",
     "output_type": "stream",
     "text": [
      "noOfFeatures =  24 24\n"
     ]
    },
    {
     "data": {
      "image/png": "[encoded data removed]",
      "text/plain": [
       "<matplotlib.figure.Figure at 0x7f1af7d66860>"
      ]
     },
     "metadata": {},
     "output_type": "display_data"
    }
   ],
   "source": [
    "dataFrame = df.loc[df['unit'] == 1].drop(['unit', 'time'], axis=1)\n",
    "dataFrame = dataFrame.rolling(10).mean()\n",
    "dataFrameTest = dataFrameTest.rolling(10).mean()\n",
    "dataFrame = dataFrame.dropna(axis=0, how='all')\n",
    "dataFrameTest = dataFrameTest.dropna(axis=0, how='all')\n",
    "# dfTrain = df.loc[df['Unit'] == 1].drop(['Unit'], axis=1)\n",
    "dataFrameTest = df.loc[df['unit'] == 2].drop(['unit', 'time'], axis=1)\n",
    "dataFrame = normalizeDataFrame(dataFrame)\n",
    "dataFrameTest = normalizeDataFrame(dataFrameTest)\n",
    "noOfSamples = dataFrame.shape[0]\n",
    "noOfFeatures = dataFrame.shape[1] - 1\n",
    "noOfFeaturesTest = dataFrameTest.shape[1] - 1\n",
    "targetColumnName = list(dataFrame)[noOfFeatures]\n",
    "print (\"noOfFeatures = \", noOfFeatures, noOfFeaturesTest)\n",
    "# print (dataFrame.head())\n",
    "# print (dataFrameTest.head())\n",
    "# print (dataFrame.tail())\n",
    "# print (dataFrameTest.tail())\n",
    "\n",
    "x = dataFrame.iloc[:, :noOfFeatures]\n",
    "y = dataFrame[targetColumnName]\n",
    "xTest = dataFrameTest.iloc[:, :noOfFeaturesTest]\n",
    "yTest = dataFrameTest[targetColumnName]\n",
    "\n",
    "regr = linear_model.LinearRegression(fit_intercept=True)\n",
    "regr.fit(x, y)\n",
    "dataFrameTest['pred_y_skLearn'] = regr.predict(xTest)\n",
    "# print (dataFrameTest)\n",
    "# plt.plot(dataFrameTest['RUL'], dataFrameTest['pred_y_skLearn'], '.')\n",
    "# plt.plot(dataFrameTest['time'], dataFrameTest['pred_y_skLearn'], '.')\n",
    "# plt.plot(dataFrameTest['time'], dataFrameTest['RUL'], '.')\n",
    "plt.plot(dataFrameTest['pred_y_skLearn'], '.')\n",
    "plt.plot(dataFrameTest['RUL'], '.')\n",
    "plt.show()\n",
    "# print (dataFrame.head())\n",
    "# print (dataFrameTest.head())"
   ]
  },
  {
   "cell_type": "code",
   "execution_count": null,
   "metadata": {},
   "outputs": [],
   "source": []
  }
 ],
 "metadata": {
  "kernelspec": {
   "display_name": "Python 3",
   "language": "python",
   "name": "python3"
  },
  "language_info": {
   "codemirror_mode": {
    "name": "ipython",
    "version": 3
   },
   "file_extension": ".py",
   "mimetype": "text/x-python",
   "name": "python",
   "nbconvert_exporter": "python",
   "pygments_lexer": "ipython3",
   "version": "3.5.2"
  }
 },
 "nbformat": 4,
 "nbformat_minor": 2
}
