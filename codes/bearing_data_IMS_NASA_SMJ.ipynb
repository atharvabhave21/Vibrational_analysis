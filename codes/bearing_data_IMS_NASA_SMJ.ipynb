{
 "cells": [
  {
   "cell_type": "code",
   "execution_count": 4,
   "metadata": {},
   "outputs": [],
   "source": [
    "import pandas as pd\n",
    "import os\n",
    "import matplotlib as mpl\n",
    "import matplotlib.pyplot as plt\n",
    "import numpy as np\n",
    "from scipy import stats\n",
    "# from sklearn import preprocessing, linear_model\n",
    "from keras.models import Sequential\n",
    "def scale_plot_size(factor=3.0):\n",
    "    default_figsize = mpl.rcParamsDefault['figure.figsize']\n",
    "    mpl.rcParams['figure.figsize'] = [val*factor for val in default_figsize]\n",
    "scale_plot_size(1.5)"
   ]
  },
  {
   "cell_type": "code",
   "execution_count": 5,
   "metadata": {
    "scrolled": false
   },
   "outputs": [
    {
     "ename": "FileNotFoundError",
     "evalue": "[Errno 2] No such file or directory: '/home/cardioid/Vibrational_Analysis/data/bearing_fault_nasa_IMS/processed_data_1'",
     "output_type": "error",
     "traceback": [
      "\u001b[0;31m---------------------------------------------------------------------------\u001b[0m",
      "\u001b[0;31mFileNotFoundError\u001b[0m                         Traceback (most recent call last)",
      "\u001b[0;32m<ipython-input-5-bcb308da25b2>\u001b[0m in \u001b[0;36m<module>\u001b[0;34m()\u001b[0m\n\u001b[1;32m      2\u001b[0m \u001b[0mprocessed_training_set_path\u001b[0m \u001b[0;34m=\u001b[0m \u001b[0mos\u001b[0m\u001b[0;34m.\u001b[0m\u001b[0mpath\u001b[0m\u001b[0;34m.\u001b[0m\u001b[0mexpanduser\u001b[0m\u001b[0;34m(\u001b[0m\u001b[0;34m'~/Vibrational_Analysis/data/bearing_fault_nasa_IMS/processed_data_1'\u001b[0m\u001b[0;34m)\u001b[0m\u001b[0;34m\u001b[0m\u001b[0m\n\u001b[1;32m      3\u001b[0m \u001b[0;32mif\u001b[0m \u001b[0;32mnot\u001b[0m \u001b[0mos\u001b[0m\u001b[0;34m.\u001b[0m\u001b[0mpath\u001b[0m\u001b[0;34m.\u001b[0m\u001b[0mexists\u001b[0m\u001b[0;34m(\u001b[0m\u001b[0mprocessed_training_set_path\u001b[0m\u001b[0;34m)\u001b[0m\u001b[0;34m:\u001b[0m\u001b[0;34m\u001b[0m\u001b[0m\n\u001b[0;32m----> 4\u001b[0;31m     \u001b[0mos\u001b[0m\u001b[0;34m.\u001b[0m\u001b[0mmkdir\u001b[0m\u001b[0;34m(\u001b[0m\u001b[0mprocessed_training_set_path\u001b[0m\u001b[0;34m)\u001b[0m\u001b[0;34m\u001b[0m\u001b[0m\n\u001b[0m\u001b[1;32m      5\u001b[0m \u001b[0;34m\u001b[0m\u001b[0m\n\u001b[1;32m      6\u001b[0m \u001b[0mnewheader\u001b[0m \u001b[0;34m=\u001b[0m \u001b[0;34m[\u001b[0m\u001b[0;34m\"B1X\"\u001b[0m\u001b[0;34m,\u001b[0m \u001b[0;34m\"B1Y\"\u001b[0m\u001b[0;34m,\u001b[0m\u001b[0;34m\"B2X\"\u001b[0m\u001b[0;34m,\u001b[0m \u001b[0;34m\"B2Y\"\u001b[0m\u001b[0;34m,\u001b[0m\u001b[0;34m\"B3X\"\u001b[0m\u001b[0;34m,\u001b[0m \u001b[0;34m\"B3Y\"\u001b[0m\u001b[0;34m,\u001b[0m\u001b[0;34m\"B4X\"\u001b[0m\u001b[0;34m,\u001b[0m \u001b[0;34m\"B4Y\"\u001b[0m\u001b[0;34m]\u001b[0m\u001b[0;34m\u001b[0m\u001b[0m\n",
      "\u001b[0;31mFileNotFoundError\u001b[0m: [Errno 2] No such file or directory: '/home/cardioid/Vibrational_Analysis/data/bearing_fault_nasa_IMS/processed_data_1'"
     ]
    }
   ],
   "source": [
    "training_set_path = os.path.expanduser('~/Vibrational_Analysis/data/bearing_fault_nasa_IMS/1st_test')\n",
    "processed_training_set_path = os.path.expanduser('~/Vibrational_Analysis/data/bearing_fault_nasa_IMS/processed_data_1')\n",
    "if not os.path.exists(processed_training_set_path):\n",
    "    os.mkdir(processed_training_set_path)\n",
    "\n",
    "newheader = [\"B1X\", \"B1Y\",\"B2X\", \"B2Y\",\"B3X\", \"B3Y\",\"B4X\", \"B4Y\"]\n",
    "print (training_set_path)\n",
    "\n",
    "df = pd.read_csv('~/Vibrational_analysis/data/bearing_fault_nasa_IMS/1st_test/2003.10.22.12.09.13',sep=\"\\t\",header= None)\n",
    "df2 = pd.read_csv('~/Vibrational_analysis/data/bearing_fault_nasa_IMS/1st_test/2003.10.22.12.14.13',sep=\"\\t\",header= None)\n",
    "array1 = df.as_matrix()\n",
    "array2 = df2.as_matrix()\n",
    "array3 = np.append(array1,array2,axis=0)\n",
    "# print (array3)\n",
    "# print (array3.shape)"
   ]
  },
  {
   "cell_type": "code",
   "execution_count": null,
   "metadata": {},
   "outputs": [],
   "source": [
    "# RUL = []\n",
    "# nof = os.listdir(os.path.expanduser(training_set_path))\n",
    "# RUL = len(nof)\n",
    "# df = df.assign(RUL = RUL)\n",
    "# print (RUL)"
   ]
  },
  {
   "cell_type": "code",
   "execution_count": 3,
   "metadata": {},
   "outputs": [
    {
     "ename": "SyntaxError",
     "evalue": "invalid syntax (<ipython-input-3-79d840a61d34>, line 4)",
     "output_type": "error",
     "traceback": [
      "\u001b[0;36m  File \u001b[0;32m\"<ipython-input-3-79d840a61d34>\"\u001b[0;36m, line \u001b[0;32m4\u001b[0m\n\u001b[0;31m    for file in dirlist\u001b[0m\n\u001b[0m                       ^\u001b[0m\n\u001b[0;31mSyntaxError\u001b[0m\u001b[0;31m:\u001b[0m invalid syntax\n"
     ]
    }
   ],
   "source": [
    "dirlist = os.listdir(os.path.expanduser(training_set_path))\n",
    "dirlist.sort()\n",
    "# print (dirlist)\n",
    "for file in dirlist\n",
    "    if file is '2003.10.22.12.06.24'\n",
    "        continue\n",
    "    df = pd.read_csv('~/Vibrational_analysis/data/bearing_fault_nasa_IMS/1st_test/2003.10.22.12.09.13',sep=\"\\t\",header= None)\n",
    "        "
   ]
  }
 ],
 "metadata": {
  "kernelspec": {
   "display_name": "Python 3",
   "language": "python",
   "name": "python3"
  },
  "language_info": {
   "codemirror_mode": {
    "name": "ipython",
    "version": 3
   },
   "file_extension": ".py",
   "mimetype": "text/x-python",
   "name": "python",
   "nbconvert_exporter": "python",
   "pygments_lexer": "ipython3",
   "version": "3.5.2"
  }
 },
 "nbformat": 4,
 "nbformat_minor": 2
}
