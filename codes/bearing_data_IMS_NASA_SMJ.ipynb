{
 "cells": [
  {
   "cell_type": "code",
   "execution_count": 1,
   "metadata": {},
   "outputs": [
    {
     "name": "stderr",
     "output_type": "stream",
     "text": [
      "Using TensorFlow backend.\n",
      "/Library/Frameworks/Python.framework/Versions/3.6/lib/python3.6/importlib/_bootstrap.py:219: RuntimeWarning: compiletime version 3.5 of module 'tensorflow.python.framework.fast_tensor_util' does not match runtime version 3.6\n",
      "  return f(*args, **kwds)\n"
     ]
    }
   ],
   "source": [
    "import pandas as pd\n",
    "import os\n",
    "import matplotlib as mpl\n",
    "import matplotlib.pyplot as plt\n",
    "import numpy as np\n",
    "from scipy import stats\n",
    "# from sklearn import preprocessing, linear_model\n",
    "from keras.models import Sequential\n",
    "def scale_plot_size(factor=3.0):\n",
    "    default_figsize = mpl.rcParamsDefault['figure.figsize']\n",
    "    mpl.rcParams['figure.figsize'] = [val*factor for val in default_figsize]\n",
    "scale_plot_size(1.5)"
   ]
  },
  {
   "cell_type": "code",
   "execution_count": 3,
   "metadata": {
    "scrolled": false
   },
   "outputs": [
    {
     "name": "stdout",
     "output_type": "stream",
     "text": [
      "/Users/Suyash/Vibrational_Analysis/data/bearing_fault_NASA/1st_test\n"
     ]
    }
   ],
   "source": [
    "training_set_path = os.path.expanduser('~/Vibrational_Analysis/data/bearing_fault_NASA/1st_test')\n",
    "processed_training_set_path = os.path.expanduser('~/Vibrational_Analysis/data/bearing_fault_NASA/processed_data_1')\n",
    "if not os.path.exists(processed_training_set_path):\n",
    "    os.mkdir(processed_training_set_path)\n",
    "\n",
    "newheader = [\"B1X\", \"B1Y\",\"B2X\", \"B2Y\",\"B3X\", \"B3Y\",\"B4X\", \"B4Y\"]\n",
    "print (training_set_path)\n",
    "\n",
    "df = pd.read_csv('~/Vibrational_analysis/data/bearing_fault_NASA/1st_test/2003.10.22.12.09.13',sep=\"\\t\",header= None)\n",
    "df2 = pd.read_csv('~/Vibrational_analysis/data/bearing_fault_NASA/1st_test/2003.10.22.12.14.13',sep=\"\\t\",header= None)\n",
    "array1 = df.as_matrix()\n",
    "array2 = df2.as_matrix()\n",
    "array3 = np.append(array1,array2,axis=0)\n",
    "# print (array3)\n",
    "# print (array3.shape)"
   ]
  },
  {
   "cell_type": "code",
   "execution_count": null,
   "metadata": {},
   "outputs": [],
   "source": [
    "# RUL = []\n",
    "# nof = os.listdir(os.path.expanduser(training_set_path))\n",
    "# RUL = len(nof)\n",
    "# df = df.assign(RUL = RUL)\n",
    "# print (RUL)"
   ]
  },
  {
   "cell_type": "code",
   "execution_count": 3,
   "metadata": {},
   "outputs": [
    {
     "ename": "SyntaxError",
     "evalue": "invalid syntax (<ipython-input-3-79d840a61d34>, line 4)",
     "output_type": "error",
     "traceback": [
      "\u001b[0;36m  File \u001b[0;32m\"<ipython-input-3-79d840a61d34>\"\u001b[0;36m, line \u001b[0;32m4\u001b[0m\n\u001b[0;31m    for file in dirlist\u001b[0m\n\u001b[0m                       ^\u001b[0m\n\u001b[0;31mSyntaxError\u001b[0m\u001b[0;31m:\u001b[0m invalid syntax\n"
     ]
    }
   ],
   "source": [
    "dirlist = os.listdir(os.path.expanduser(training_set_path))\n",
    "dirlist.sort()\n",
    "# print (dirlist)\n",
    "for file in dirlist\n",
    "    if file is '2003.10.22.12.06.24'\n",
    "        continue\n",
    "    df = pd.read_csv('~/Vibrational_analysis/data/bearing_fault_nasa_IMS/1st_test/2003.10.22.12.09.13',sep=\"\\t\",header= None)\n",
    "        "
   ]
  }
 ],
 "metadata": {
  "kernelspec": {
   "display_name": "Python 3",
   "language": "python",
   "name": "python3"
  },
  "language_info": {
   "codemirror_mode": {
    "name": "ipython",
    "version": 3
   },
   "file_extension": ".py",
   "mimetype": "text/x-python",
   "name": "python",
   "nbconvert_exporter": "python",
   "pygments_lexer": "ipython3",
   "version": "3.6.4"
  }
 },
 "nbformat": 4,
 "nbformat_minor": 2
}
